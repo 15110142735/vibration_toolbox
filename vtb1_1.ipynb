{
 "cells": [
  {
   "cell_type": "markdown",
   "metadata": {
    "slideshow": {
     "slide_type": "slide"
    }
   },
   "source": [
    "# Free Response of a Single Degree of Freedom System"
   ]
  },
  {
   "cell_type": "code",
   "execution_count": 1,
   "metadata": {
    "collapsed": true
   },
   "outputs": [],
   "source": [
    "# The following two lines will cause vtoolbox.py to be reloaded automatically if edited\n",
    "# This is helpful in development\n",
    "%load_ext autoreload\n",
    "%autoreload 2\n",
    "\n",
    "%matplotlib inline"
   ]
  },
  {
   "cell_type": "code",
   "execution_count": 2,
   "metadata": {
    "collapsed": false
   },
   "outputs": [],
   "source": [
    "import vtoolbox as vtb"
   ]
  },
  {
   "cell_type": "code",
   "execution_count": 13,
   "metadata": {
    "collapsed": false
   },
   "outputs": [
    {
     "name": "stdout",
     "output_type": "stream",
     "text": [
      "Help on function solve_sdofs in module vtoolbox:\n",
      "\n",
      "solve_sdofs(m=10, c=1, k=100, x0=1, v0=-1, max_time=10)\n",
      "    returns t, x, v\n",
      "    $\u0007lpha$\n",
      "    Returns free response of a second order linear ordinary differential equation\n",
      "    defined by \n",
      "    :math:`m\\ddot{x} + c \\dot{x} + k x = 0`\n",
      "    given initial conditions :math:`x_0` and :math:`\\dot{x}_0 = v_0` for\n",
      "    :math:`0 < t < t_{max}` \n",
      "    \n",
      "    Parameters\n",
      "    \n",
      "    m, c, k:           1) Floats. Mass, damping and stiffness.\n",
      "    x0, v0:            2) Floats. Initial conditions\n",
      "    max_time:          3) Float. end time or response to be returned\n",
      "    \n",
      "    Returns\n",
      "    \n",
      "    t, x, v: 1) Arrays. Time, displacement, and velocity\n",
      "    \n",
      "    :Example:\n",
      "    >>> import vtoolbox as vtb\n",
      "    >>> vtb.solve_sdofs()\n",
      "    (array([  0.00000000e+00,   4.00160064e-03,   8.00320128e-03, ...,\n",
      "             9.99199680e+00,   9.99599840e+00,   1.00000000e+01]), array([[ 1.        ],\n",
      "           [ 0.99591926],\n",
      "           [ 0.9916807 ],\n",
      "           ..., \n",
      "           [ 0.56502396],\n",
      "           [ 0.56123989],\n",
      "           [ 0.55736747]]), array([[-1.        ],\n",
      "           [-1.03952678],\n",
      "           [-1.07887136],\n",
      "           ..., \n",
      "           [-0.93454914],\n",
      "           [-0.95670532],\n",
      "           [-0.97869947]]))\n",
      "\n"
     ]
    }
   ],
   "source": [
    "help(vtb.solve_sdofs)"
   ]
  },
  {
   "cell_type": "markdown",
   "metadata": {
    "slideshow": {
     "slide_type": "slide"
    }
   },
   "source": [
    "In this Notebook we investigate the impact of various parameters on the response of a single mass-damper-spring system. \n",
    "\n",
    "$$\n",
    "m\\ddot{x} +c\\dot{x}+kx=0\n",
    "$$\n",
    "\n",
    "Here m, c, and k are the mass, damping, and stiffness in consistent units. "
   ]
  },
  {
   "cell_type": "markdown",
   "metadata": {
    "slideshow": {
     "slide_type": "slide"
    }
   },
   "source": [
    "## Computing the trajectories and plotting the result"
   ]
  },
  {
   "cell_type": "markdown",
   "metadata": {
    "slideshow": {
     "slide_type": "slide"
    }
   },
   "source": [
    "Let's call the function once to view the solutions. For this set of parameters, we see the trajectories swirling around two points, called attractors. "
   ]
  },
  {
   "cell_type": "code",
   "execution_count": 4,
   "metadata": {
    "collapsed": false,
    "slideshow": {
     "slide_type": "subslide"
    }
   },
   "outputs": [],
   "source": [
    "t, x, y = vtb.solve_sdofs(max_time = 30)"
   ]
  },
  {
   "cell_type": "markdown",
   "metadata": {
    "slideshow": {
     "slide_type": "slide"
    }
   },
   "source": [
    "Using IPython's `interactive` function, we can explore how the trajectories behave as we change the various parameters."
   ]
  },
  {
   "cell_type": "code",
   "execution_count": 5,
   "metadata": {
    "collapsed": false
   },
   "outputs": [
    {
     "data": {
      "image/png": "[encoded data removed]",
      "text/plain": [
       "<matplotlib.figure.Figure at 0x107c9f358>"
      ]
     },
     "metadata": {},
     "output_type": "display_data"
    }
   ],
   "source": [
    "vtb.sdof_time_plot(m=10, c=1, k=100, x0=1, v0=-1, max_time=10)"
   ]
  },
  {
   "cell_type": "code",
   "execution_count": 6,
   "metadata": {
    "collapsed": false
   },
   "outputs": [
    {
     "data": {
      "image/png": "[encoded data removed]",
      "text/plain": [
       "<matplotlib.figure.Figure at 0x107cd2dd8>"
      ]
     },
     "metadata": {},
     "output_type": "display_data"
    }
   ],
   "source": [
    "vtb.sdof_phase_plot(m=10, c=1, k=100, x0=1, v0=-1, max_time=10)"
   ]
  },
  {
   "cell_type": "code",
   "execution_count": 75,
   "metadata": {
    "collapsed": false
   },
   "outputs": [
    {
     "data": {
      "image/png": "[encoded data removed]",
      "text/plain": [
       "<matplotlib.figure.Figure at 0x108fa2278>"
      ]
     },
     "metadata": {},
     "output_type": "display_data"
    }
   ],
   "source": [
    "vtb.sdof_time_plot_i()"
   ]
  },
  {
   "cell_type": "code",
   "execution_count": 17,
   "metadata": {
    "collapsed": false
   },
   "outputs": [
    {
     "name": "stdout",
     "output_type": "stream",
     "text": [
      "The natural frequency is  3.16227766017 rad/s.\n",
      "The damping ratio is  0.0158113883008\n",
      "The damped natural frequency is  3.16188235075\n"
     ]
    },
    {
     "data": {
      "image/png": "[encoded data removed]",
      "text/plain": [
       "<matplotlib.figure.Figure at 0x10842e828>"
      ]
     },
     "metadata": {},
     "output_type": "display_data"
    }
   ],
   "source": [
    "vtb.sdof_phase_plot_i()"
   ]
  },
  {
   "cell_type": "markdown",
   "metadata": {
    "slideshow": {
     "slide_type": "subslide"
    }
   },
   "source": [
    "After interacting with the system, we can take the result and perform further computations. In this case, we compute the average positions in $x$, $y$ and $z$."
   ]
  },
  {
   "cell_type": "code",
   "execution_count": 9,
   "metadata": {
    "collapsed": false,
    "slideshow": {
     "slide_type": "subslide"
    }
   },
   "outputs": [
    {
     "ename": "NameError",
     "evalue": "name 'z_t' is not defined",
     "output_type": "error",
     "traceback": [
      "\u001b[0;31m---------------------------------------------------------------------------\u001b[0m",
      "\u001b[0;31mNameError\u001b[0m                                 Traceback (most recent call last)",
      "\u001b[0;32m<ipython-input-9-725b4f417c16>\u001b[0m in \u001b[0;36m<module>\u001b[0;34m()\u001b[0m\n\u001b[0;32m----> 1\u001b[0;31m \u001b[0mxyz_avg\u001b[0m \u001b[0;34m=\u001b[0m \u001b[0mz_t\u001b[0m\u001b[0;34m.\u001b[0m\u001b[0mmean\u001b[0m\u001b[0;34m(\u001b[0m\u001b[0maxis\u001b[0m\u001b[0;34m=\u001b[0m\u001b[0;36m1\u001b[0m\u001b[0;34m)\u001b[0m\u001b[0;34m\u001b[0m\u001b[0m\n\u001b[0m",
      "\u001b[0;31mNameError\u001b[0m: name 'z_t' is not defined"
     ]
    }
   ],
   "source": [
    "xyz_avg = z_t.mean(axis=1)"
   ]
  },
  {
   "cell_type": "code",
   "execution_count": null,
   "metadata": {
    "collapsed": false,
    "slideshow": {
     "slide_type": "subslide"
    }
   },
   "outputs": [],
   "source": [
    "xyz_avg.shape"
   ]
  },
  {
   "cell_type": "markdown",
   "metadata": {
    "slideshow": {
     "slide_type": "slide"
    }
   },
   "source": [
    "Creating histograms of the average positions (across different trajectories) show that on average the trajectories swirl about the attractors."
   ]
  },
  {
   "cell_type": "code",
   "execution_count": null,
   "metadata": {
    "collapsed": false,
    "slideshow": {
     "slide_type": "subslide"
    }
   },
   "outputs": [],
   "source": [
    "def vtb2_5(m=1,m0=.1,e=0.01,z=0.1,rmin=0.2,rmax=2):\n",
    "    r=sp.arange(rmin,rmax,(rmax - rmin) / 1000)\n",
    "    Xn=((r ** 4) / ((1 - r ** 2) ** 2 + (2 * z * r) ** 2))**0.5\n",
    "    X=Xn * m0 * e / m\n",
    "    phi=sp.arctan2(2 * z * r,1 - r ** 2)\n",
    "    fig = plt.figure()\n",
    "    fig.subplots_adjust(wspace = .4)\n",
    "    plt.subplot(1,2,1)\n",
    "    plt.plot(r,Xn,'-')\n",
    "    plt.grid('on')\n",
    "    plt.xlabel('Frequency Ratio')\n",
    "    plt.ylabel('Normalized Displacement Magnitude')\n",
    "    plt.title('Normalized Displacement Magnitude')\n",
    "\n",
    "    plt.subplot(1,2,2)\n",
    "    plt.plot(r,phi,'-')\n",
    "    plt.grid('on')\n",
    "    plt.xlabel('Frequency Ratio')\n",
    "    plt.ylabel('Phase')\n",
    "    plt.title('Phase')\n",
    "\n",
    "    return"
   ]
  },
  {
   "cell_type": "code",
   "execution_count": null,
   "metadata": {
    "collapsed": false
   },
   "outputs": [],
   "source": [
    "vtb2_5()\n"
   ]
  },
  {
   "cell_type": "code",
   "execution_count": null,
   "metadata": {
    "collapsed": false
   },
   "outputs": [],
   "source": [
    "help(plt.subplot)"
   ]
  },
  {
   "cell_type": "code",
   "execution_count": null,
   "metadata": {
    "collapsed": false,
    "slideshow": {
     "slide_type": "slide"
    }
   },
   "outputs": [],
   "source": [
    "plt.hist(xyz_avg[:,1])\n",
    "plt.title('Average $y(t)$')"
   ]
  },
  {
   "cell_type": "code",
   "execution_count": null,
   "metadata": {
    "collapsed": true,
    "slideshow": {
     "slide_type": "subslide"
    }
   },
   "outputs": [],
   "source": []
  },
  {
   "cell_type": "code",
   "execution_count": null,
   "metadata": {
    "collapsed": true
   },
   "outputs": [],
   "source": []
  }
 ],
 "metadata": {
  "hide_input": false,
  "kernelspec": {
   "display_name": "Python 3",
   "language": "python",
   "name": "python3"
  },
  "language_info": {
   "codemirror_mode": {
    "name": "ipython",
    "version": 3
   },
   "file_extension": ".py",
   "mimetype": "text/x-python",
   "name": "python",
   "nbconvert_exporter": "python",
   "pygments_lexer": "ipython3",
   "version": "3.5.1"
  },
  "latex_envs": {
   "bibliofile": "biblio.bib",
   "cite_by": "apalike",
   "current_citInitial": 1,
   "eqLabelWithNumbers": true,
   "eqNumInitial": 0
  },
  "widgets": {
   "state": {
    "0153fd4585074a86b015bcc0b031cd60": {
     "views": []
    },
    "018a908e16244788b2dccb0ac0178fe2": {
     "views": []
    },
    "03365d2546234df1869962d60ab0208c": {
     "views": []
    },
    "03b373a92acc4bfe9e01909201bea801": {
     "views": []
    },
    "03e5c4f090164ea8964a98c69e655fbf": {
     "views": []
    },
    "03f7c73f80ff4265abca04c17b887a12": {
     "views": []
    },
    "03fa3b26a50f40f6ba824a1a8368d39d": {
     "views": []
    },
    "041d09ab66bd4230bc2baa203e20e131": {
     "views": []
    },
    "04d59334ec1b45ac8cace44f7cf43db9": {
     "views": []
    },
    "04ee4b0687864020993120c05c30ae34": {
     "views": []
    },
    "04f0fcb7777644a88b38b0b258b4e6af": {
     "views": []
    },
    "0508d2b9129d43aaac7c9cd1b110f310": {
     "views": []
    },
    "050c1b019c5742ccb61a689d64bbb171": {
     "views": []
    },
    "0531d95c87f44cbe99ae2d25184717ce": {
     "views": []
    },
    "059005bec75d43d8a31b9fb7fc8d9616": {
     "views": []
    },
    "06c1f11d6bcf495fbff75e70c23f9afa": {
     "views": []
    },
    "070a47806a594d9da0ffa69507494d97": {
     "views": []
    },
    "070f18f30d16424681f6c00d957c6992": {
     "views": []
    },
    "073e9e9cadbf4beb80a329125ea56d98": {
     "views": []
    },
    "0787512005d7414bb7c2a749bb47459e": {
     "views": []
    },
    "07a023affb194125970b391603cc3ca4": {
     "views": []
    },
    "07c1a079b01548a7a121d5d84f155fa1": {
     "views": []
    },
    "0876012fd17e4d85bade2134a3a7ac99": {
     "views": []
    },
    "08a451eb7605410b9f16216c5909c00a": {
     "views": []
    },
    "08a8823c00354e3587b08041f2f61368": {
     "views": []
    },
    "08e24bacf40d420899ee1277baa5fa83": {
     "views": []
    },
    "09455ce67eb14827bbb6c30a302e133f": {
     "views": []
    },
    "0955b5655d8d4afaaeaf9776dd930d69": {
     "views": []
    },
    "096f2c011ee7443b96d19c7505686a30": {
     "views": []
    },
    "09a6f4d1da5043ffa51d9a6399f67266": {
     "views": []
    },
    "09b306bb173c4a578163afc344ccc914": {
     "views": []
    },
    "09c434b5b8784a8fabea7592a9b4b4fa": {
     "views": []
    },
    "0a796f755a84446a96cce2bc99bcd955": {
     "views": []
    },
    "0a8af4ba7546475081a0d5b6c3359275": {
     "views": []
    },
    "0b5dd73c59ba4c5199990103a114ac98": {
     "views": []
    },
    "0b95de9e58d941d7b3e2c96f88d3e17d": {
     "views": []
    },
    "0bb705cd7b1d442792358ab5f65cdd13": {
     "views": []
    },
    "0bb885db92814620bcfd15ce5f81ef3c": {
     "views": []
    },
    "0be5ab1442dc4f2187d75ab6e6463dd5": {
     "views": []
    },
    "0c2fecec09c142f6b1c57ee5fd55d61d": {
     "views": []
    },
    "0c795348b9a54513a6e56a43b0010ecc": {
     "views": []
    },
    "0ce06407a55c403ca395e71765dadbea": {
     "views": []
    },
    "0d2a4355aa594e998e5be33dc86873ba": {
     "views": []
    },
    "0d7875e7aa8c44bc91edfde4ca5e153c": {
     "views": []
    },
    "0ddf5d6cfcba4ab688365f2eff21ef44": {
     "views": []
    },
    "0e2244d600d6495facfd3e7744a01204": {
     "views": []
    },
    "0e6ac101cceb428d8974c909e9c86c3a": {
     "views": []
    },
    "0e6de82a6546493ab8b3aca1cdc33f74": {
     "views": []
    },
    "0ea8e8d61451430d8fba2a86bc8ecc92": {
     "views": []
    },
    "0efcda43726348f58c24d45c6d72ec6c": {
     "views": []
    },
    "0fb602a25f68422baf474001abc88197": {
     "views": []
    },
    "0fc7485c88194f23a56f9e258dc3c12f": {
     "views": []
    },
    "1028b78668e24535810ce1b76aee228a": {
     "views": []
    },
    "1104f8fb4b4e4372becb3114f0aebc81": {
     "views": []
    },
    "1135070e03564243b2ee73f982e4e9d3": {
     "views": []
    },
    "116c345b67634ccfa151d473c7813d96": {
     "views": []
    },
    "116ca856161e4067b0c39c173113ef94": {
     "views": []
    },
    "117b15dbb0a74ccf977c6e1a9a920ca1": {
     "views": []
    },
    "11ae85ba2a444c7c9ec8ade43160d3bf": {
     "views": []
    },
    "12065f8ad50b4517910fa6d4183842eb": {
     "views": []
    },
    "12206fc1b2b2441bba635d5b3d720753": {
     "views": []
    },
    "12eb15afb3204a3cb2ed56baf9d87d4a": {
     "views": []
    },
    "1320bf7bd89b451bbd6f118df8ab7ce2": {
     "views": []
    },
    "13a9fbdbc6fb4438926d4fb8eaff8dcc": {
     "views": []
    },
    "140f063b62624b84b24a311f26a58465": {
     "views": []
    },
    "14e071157af44d9fad38eb15390bd992": {
     "views": []
    },
    "157a3bd2cca141068c9576f072f8c5af": {
     "views": []
    },
    "16665bb724a246008c8dfe09ca0ab6a8": {
     "views": []
    },
    "1695ecc20a3746a8ba29c867126cd59a": {
     "views": []
    },
    "16e645a0ed7048a2a099f35a5054aab1": {
     "views": []
    },
    "175ced3d6bc44a5eba0a4671395e2312": {
     "views": []
    },
    "1763d2b742bd4a7abc6284f5bb8bba47": {
     "views": []
    },
    "1767ef7daa4d4eebacdb196527047c23": {
     "views": []
    },
    "176ba9add2084962b98b3490fab90354": {
     "views": []
    },
    "17a12993ce354cb5a8790cbef655195f": {
     "views": []
    },
    "18e218c83c864b3f9ccf712c80b27e9a": {
     "views": []
    },
    "193784aba91f451a83385e2f2a0ed77e": {
     "views": []
    },
    "197075e7f41e48c7bf6c3d629fead8cb": {
     "views": []
    },
    "19d7a145d61d42fd9212e66b89740d72": {
     "views": []
    },
    "1a208fbd2b404ce4b17a9c72b8be453c": {
     "views": []
    },
    "1abd906588934118b414ccff3e28485c": {
     "views": []
    },
    "1b1b456fc3474b00903f8766c3c88499": {
     "views": []
    },
    "1b63a668b6264f4bb737e9c1812c9635": {
     "views": []
    },
    "1cf4b8b18df94460a63f1ac8a8348ae4": {
     "views": []
    },
    "1d5a710b67a7415ab566f41a4e5d2cc3": {
     "views": []
    },
    "1dc3292ea86a42029b1fb27e751c7363": {
     "views": []
    },
    "1e523d24cfc14675a850cb606474d4a8": {
     "views": []
    },
    "1e93091d64eb42daa1bcba897f18061f": {
     "views": []
    },
    "1f0a1bfbf84043398ea80ad44c00e557": {
     "views": []
    },
    "1f57baea530e41dd85706f83b1831744": {
     "views": []
    },
    "1f6f2ef754ed4af59853fc06b1693ffa": {
     "views": []
    },
    "201627f9f87143bdaeb21db17b83bede": {
     "views": []
    },
    "208eda17e32a4808a605f2eebd8b648c": {
     "views": []
    },
    "20e125e66c4a426d9f93cdc6abb4ce8c": {
     "views": []
    },
    "21765c108d934a34bcf8bddaa3f03899": {
     "views": []
    },
    "21a986ba24f74e969b267c9a473c82df": {
     "views": []
    },
    "21b8889e788947f1965fd783ba45628c": {
     "views": []
    },
    "22001b4a69ef4bde9ef7880e2bb2ef3a": {
     "views": []
    },
    "2230bc87c15a4b0f8e49e0ca5a8130b5": {
     "views": []
    },
    "227caba19d2a4c91b34a1d92992828de": {
     "views": []
    },
    "22e920da9d6f4b018d6c5fd8322ddfa6": {
     "views": []
    },
    "2304687e68f54ae7bd4e8aa0bee9bc73": {
     "views": []
    },
    "230ffe8e52c5449183f578ea71d978f9": {
     "views": []
    },
    "23e24d4850f347bfb9a7c6c5d581aa9f": {
     "views": []
    },
    "24576b9e1b4d417b8e149ed283a63256": {
     "views": []
    },
    "249b9390e6d548a69a922ee958494c75": {
     "views": []
    },
    "253c951880664aab9acb6431ad3f17bb": {
     "views": []
    },
    "259b5d68b84c4887a46580655372ad7f": {
     "views": []
    },
    "259c6ba58e0e404892bc55938872d3f4": {
     "views": []
    },
    "25ea12aff051470094ef77757668adfc": {
     "views": []
    },
    "268f2b397d684e02885d675f8b28695f": {
     "views": []
    },
    "26f1c2856d0946988c7aeb3c254fc658": {
     "views": []
    },
    "276276cfdc194bee82181a1a4bec8a31": {
     "views": []
    },
    "2778d5a5980b490993318a05fef9c3e4": {
     "views": []
    },
    "277fa4d28732466d8668873e671ca629": {
     "views": []
    },
    "27a4fbf4daf34dd99961756c3d843fef": {
     "views": []
    },
    "28440d0eef9e4a5185feebb0f10d797d": {
     "views": []
    },
    "28884e69f31e4cf79be99df0727bb890": {
     "views": []
    },
    "28f054d963c34bc6a75e557ffacae530": {
     "views": []
    },
    "29a0d00cc29e4208b9d30fdafdc741cf": {
     "views": []
    },
    "2a4432899de6438386c745d952ebab47": {
     "views": []
    },
    "2ab54694302c47d3aa1433d55d9b6773": {
     "views": []
    },
    "2b638d95e4e048919ca62389d7937d07": {
     "views": []
    },
    "2b9600070ccb47f6880cee737bcf0e30": {
     "views": []
    },
    "2bb36710bf9045978dd97f2a6438ece5": {
     "views": []
    },
    "2bb9e71b4a284e388920417fc5e39777": {
     "views": []
    },
    "2bde8aefdcbd40c2b0b3eff58b8401f6": {
     "views": []
    },
    "2c839c0993c34637a64dbd76cafb42c8": {
     "views": []
    },
    "2d6ecba1418143a79504d4c094165590": {
     "views": []
    },
    "2dce37e2a3df4e39ae92b8a3e2bf65ee": {
     "views": []
    },
    "2ec27ba98b584ca1a5f80a5b639fefdd": {
     "views": []
    },
    "2edc86198304470c87c83b8d1d168813": {
     "views": []
    },
    "2ee236e261b440d18cc1f76dc5204450": {
     "views": []
    },
    "2f06748b3b8a45f0872c16051ccaf22e": {
     "views": []
    },
    "2f54de4b6a4d4ff2b1e3e158b0903dc9": {
     "views": []
    },
    "300a0cb11bb44db38d5b21bf1c256b6b": {
     "views": []
    },
    "302559312cd34fa094ae4263cd639aea": {
     "views": []
    },
    "303ae2cf88094666ad547132c7833388": {
     "views": []
    },
    "307daeb003af4634bf314696d31c1961": {
     "views": []
    },
    "30a8ef1b6e464ee396106f201db852d7": {
     "views": []
    },
    "30cab0976d2b48f69878fd174c44005c": {
     "views": []
    },
    "3100281095c748659158b1fcbe5e9929": {
     "views": []
    },
    "315832f8f7814a7bbac0a47fd4a2c709": {
     "views": []
    },
    "316d7e83e91649a2a4543a2c6d1869bf": {
     "views": []
    },
    "3178744ba8a744098b1a3b33c429eaad": {
     "views": []
    },
    "31a7e6f3bbba4b918c577249e9b8a1c3": {
     "views": []
    },
    "31fa49fce27a4ac3ae9293242111478a": {
     "views": []
    },
    "3220b01c32a94c20ba49074b3a3bfbc9": {
     "views": []
    },
    "3232cbd5f6d94c97af1886e2b9139afe": {
     "views": []
    },
    "32488e79037d4997834e1e7be057ab1f": {
     "views": []
    },
    "32683bba55af462680ea4897c7b8c23a": {
     "views": []
    },
    "327604237ed84b9a81afeebb67157bed": {
     "views": []
    },
    "3282f01426254e06aa043abb4b3d5725": {
     "views": []
    },
    "344c52d2953b4e8ba8ce450e20c19621": {
     "views": []
    },
    "34897af8b9dd4a65b3d6bce3614f2bcf": {
     "views": []
    },
    "34bba9af8cdc4d82ae233bce8ad20ab0": {
     "views": []
    },
    "36275f040c1e4951abfe9f70f3af0fc1": {
     "views": []
    },
    "36506d88878d43978e17bf15a7fae420": {
     "views": []
    },
    "366db00595ad4b8ca77d66b193007149": {
     "views": []
    },
    "367efaaf2dd84211ae2899a7584b1354": {
     "views": []
    },
    "3698651b10c446f6880ad69cea779cba": {
     "views": []
    },
    "369c9de0c0eb44b7a503187990786346": {
     "views": []
    },
    "36d544666f894fdfa9a909fabfb2baae": {
     "views": []
    },
    "36ed7edbbc6744b2942ae3f82ff44c2b": {
     "views": []
    },
    "371685a79b784b24bb4cc040748e8a05": {
     "views": []
    },
    "37ef7abfadb94514be2eedb90e0ee8a2": {
     "views": []
    },
    "388a36920e494bc9875d2870ecdd2f54": {
     "views": []
    },
    "391a8f43e43843ed9fbcb6dcb5c0d5cb": {
     "views": []
    },
    "392f6af85b9c48c0815ce85fbba3cf0b": {
     "views": []
    },
    "39e14fc36dd4497e81b1431b80864e01": {
     "views": []
    },
    "39fa64131d8a4f318e19cefc1231699b": {
     "views": []
    },
    "3a22f64580fe49caba4cafde5158bb16": {
     "views": []
    },
    "3a4d21d8e5d844e99c7621a8f066990a": {
     "views": []
    },
    "3a83068315f746cbb91f66878537523a": {
     "views": []
    },
    "3a919ddc66cd4fd79ab461e0688f955f": {
     "views": []
    },
    "3abda1a1f0f64293950a41163bbe32fe": {
     "views": []
    },
    "3adf9a4b59ea413aa3d685f52a9760a7": {
     "views": []
    },
    "3b03aabbbabd46c886c45b649795f867": {
     "views": []
    },
    "3b9d5c00468e41b2a98e63c56a5414b7": {
     "views": []
    },
    "3bd6025cbc1544c99244f999e359d334": {
     "views": []
    },
    "3be64cdbec6e49269ff4999ce457c57d": {
     "views": []
    },
    "3c067c67cd9846239a803934f928419f": {
     "views": []
    },
    "3c0c759317f54fa6a94f4cef8ad2e86f": {
     "views": []
    },
    "3c6882a63c26438b8ef6a91898900644": {
     "views": []
    },
    "3ca866c001b04be4b5a1bddaaa5ab1ef": {
     "views": []
    },
    "3cc4379ebe924aa69ae757c84030ab44": {
     "views": []
    },
    "3d1a8b34062146a1a84afa1a909de206": {
     "views": []
    },
    "3d26c61d8d424b719951ce68e8146394": {
     "views": []
    },
    "3da6d4349eee403281d9552af0302135": {
     "views": []
    },
    "3dc0d4f728524cb89c12fff95a2b29b8": {
     "views": []
    },
    "3e62e4f891a04bae953af0235247d709": {
     "views": []
    },
    "3efb6439e32d4e2094bcc0e48b84ef63": {
     "views": []
    },
    "3f1173a735ea4bb2a8817f56f7383f8f": {
     "views": []
    },
    "3f75683850ec494abbc67952887f0182": {
     "views": []
    },
    "3fac11a2140e40e991d73c4395e6de9d": {
     "views": []
    },
    "3ffab7933c73438481e44ea72c917630": {
     "views": []
    },
    "40f4585d6d854ef8b52e139fbab2ae84": {
     "views": []
    },
    "40f920a2313a40ad8ea0c38bd90a9ad6": {
     "views": []
    },
    "4128ec2d17a8410ebccdf6f945260510": {
     "views": []
    },
    "413703df879d4d5abeec6258cde35425": {
     "views": []
    },
    "413750cb9139428f9ee777f03739c9f8": {
     "views": []
    },
    "417a90187dda4cf991f6208a358c51d6": {
     "views": []
    },
    "41824da029f24999a447b3d088f3f0d3": {
     "views": []
    },
    "41daf07fdbac4f67b14f4b90cefa2ab4": {
     "views": []
    },
    "41e56364938f4f308f1827c4cd8c7756": {
     "views": []
    },
    "41ea6231d44840e2b2440a5ab29518e8": {
     "views": [
      {
       "cell_index": 12
      }
     ]
    },
    "41ef2bf0d81a4080942c98f377dedf3d": {
     "views": []
    },
    "428d3bdaedfb4d3ab4650bbe61a71178": {
     "views": []
    },
    "42a20c48b1924cb5bf57b8c81a860790": {
     "views": []
    },
    "42a4c875e3404bc48a64c7f7601e91dc": {
     "views": []
    },
    "42f6831badf54986ac55c8c21824f3a4": {
     "views": []
    },
    "4383e84b973148fca2df92306700f829": {
     "views": []
    },
    "43bd6b9d4a014a768fdfd9c385633f09": {
     "views": []
    },
    "43bfeac0bc364b67b7af42479e0ced9c": {
     "views": []
    },
    "4426be1bfb334ba38d2393cdca89bd89": {
     "views": []
    },
    "444baa559d444a55987058737f1d4ebc": {
     "views": []
    },
    "447073b85be042df9bb0c9a3683b9f85": {
     "views": []
    },
    "44814989212644a4863609f47b10225e": {
     "views": []
    },
    "4495063c5dfc4007a3e4f68ce00a8e4c": {
     "views": []
    },
    "455d7296e9c841858d93a7d809bbf84a": {
     "views": []
    },
    "45cb25c5eac84b038ac506d53e2ec3db": {
     "views": []
    },
    "45cfbcc544c24d76905d2c9ca13ef9cf": {
     "views": []
    },
    "45eca1f5d51e4ed49ecc7833836b79bb": {
     "views": []
    },
    "46268b72a9a741efa465d811eace99db": {
     "views": []
    },
    "46446395f1a14c45aa6513ee6cd40a9b": {
     "views": []
    },
    "4720576714b24f43be313060ea1c98c1": {
     "views": []
    },
    "478975368d7049ae951ca13d9faf7f8c": {
     "views": []
    },
    "483d8d1b9eee405f90b7e0aa2aadc7f0": {
     "views": []
    },
    "4848c0c83d6040ac97b81be29e654306": {
     "views": []
    },
    "4853305f411a46058799604d18875f4b": {
     "views": []
    },
    "487f9da0c82743c28ffb60f275b8b9ed": {
     "views": []
    },
    "48a499d4d651468f8dbef5a746b52f44": {
     "views": []
    },
    "4933431fb6ff44d3a01ec143a7f6686d": {
     "views": []
    },
    "497412e4328c484ca0a7ede0427826c0": {
     "views": []
    },
    "49b0057ee243481093c8bc92790dc9ec": {
     "views": []
    },
    "49deb4f9a6cf4507a77e61f2752ea038": {
     "views": []
    },
    "4a030c1daa6840f48d0f550b4798f331": {
     "views": []
    },
    "4a27bf67d289400e8b5a9d84c7affe83": {
     "views": []
    },
    "4a4c36c0057344ff949d51b96a1749c3": {
     "views": []
    },
    "4af11e0bbe584f81932d9960f5fe40ad": {
     "views": []
    },
    "4affc55319b84157a1ba52bd2b760c33": {
     "views": []
    },
    "4b309338e1694dac96559361e6ae0018": {
     "views": []
    },
    "4b77e74367ae47b9bf0e1f289a973f14": {
     "views": []
    },
    "4b7b78d9e65c46b7834c84ef8132b157": {
     "views": []
    },
    "4bcdfda2abdf4802bb2751d164e05364": {
     "views": []
    },
    "4c7ece61614c41d1b22b237098964bf7": {
     "views": []
    },
    "4cd2df2cd7914fa68aed4276705488d9": {
     "views": []
    },
    "4d2b9621d6394620899e66e6f2ff8ccc": {
     "views": []
    },
    "4db776febe1d4131b3f004580d01c302": {
     "views": []
    },
    "4dc96e99fb9943b3a6d87b4103299e0a": {
     "views": []
    },
    "4de24cd8b2d84c4e95e56d9b0cc44a7e": {
     "views": []
    },
    "4df6c2e9e7c140bc8c7dea25458a51b0": {
     "views": []
    },
    "4f3c77e59b464235beaa9b0c2433d98e": {
     "views": []
    },
    "50298d7028dc41ddb3344073f767aff2": {
     "views": []
    },
    "504d6e18be884f3e873a41138b943050": {
     "views": []
    },
    "5057fd4214d94543b39f13562dd2d5f7": {
     "views": []
    },
    "50fe8a25835a450cba9d6914221d336d": {
     "views": []
    },
    "5158214bd39b43e3815379154d5cea7c": {
     "views": []
    },
    "5163a47d56b44e44b4caedf31a27b6b4": {
     "views": []
    },
    "51b297ccb4f04c8fa3d8fda3bcb6f9ff": {
     "views": []
    },
    "525178fb822a4dcda4847d8627c4c23a": {
     "views": []
    },
    "52544201641646a29e295c75ba11ee0a": {
     "views": []
    },
    "52ba1ed41b4242a49e9037fa41a3c90e": {
     "views": []
    },
    "52f4c09d52bf4a3aa26a699e1ef1c08a": {
     "views": []
    },
    "53457a21030641839f3c9942fe2fb81e": {
     "views": []
    },
    "5369cd31027f4af6861c063308366114": {
     "views": []
    },
    "537090e4fdae45a1b42fa3f38424b3e2": {
     "views": []
    },
    "538cb04076a2432c9be6f714ca1994ec": {
     "views": []
    },
    "54389a5e43bc4b5a824e91be725424f9": {
     "views": []
    },
    "54bdcef8a9cf4876ad28a4fa6c5efd6e": {
     "views": []
    },
    "54f99686ca334bca8de18e2cb2f5d8d3": {
     "views": []
    },
    "5512c35d277841759378a74a03a129fa": {
     "views": []
    },
    "55172de133f246529523f4e5055d8a01": {
     "views": []
    },
    "55ea55f073ea42718bf989abd56c2027": {
     "views": []
    },
    "5605254ffd364f3590b74d31b145f85c": {
     "views": []
    },
    "564c50d2395f48d3a616085c7842ef3e": {
     "views": []
    },
    "56ad7f7ffad447c1a7eed90d7ad24b12": {
     "views": []
    },
    "56f2ace845c34051b1125b978c3f416b": {
     "views": []
    },
    "574768bf6cfc4c1f8bdaf8bf451cc530": {
     "views": []
    },
    "578681186b9545ac8f488f2fc89d320e": {
     "views": []
    },
    "579708b70e704d84acdf77b153e59abe": {
     "views": []
    },
    "57dd7ac502e04b9db3edb14f304d819c": {
     "views": []
    },
    "581bf1affc394d14bc867141cfc39fe9": {
     "views": []
    },
    "583f48531f4948f9bcadd9a71a6e0f32": {
     "views": []
    },
    "59710a4cc63e46ffa65f59637d992d64": {
     "views": []
    },
    "599816c090534ef4aa5e495b91c33053": {
     "views": []
    },
    "5a281cc3e6f04b35ac41de097d6d2511": {
     "views": []
    },
    "5a6c6dc925c94a9da74f4955e8f929d6": {
     "views": []
    },
    "5a72acf8a5c34abdb4b27d01f41ad80e": {
     "views": []
    },
    "5a87c978e6e846fca0c48839aeefcde4": {
     "views": []
    },
    "5a9627cb943f4abc9a82a44e5ca58bbd": {
     "views": []
    },
    "5ae3d4dc424f4e888a6eea19704dce88": {
     "views": []
    },
    "5b251359e3a94d30b0f41f7ca5b42195": {
     "views": []
    },
    "5cbb49a314b846bb8c74cb005002a50b": {
     "views": []
    },
    "5cda52d0b1ef497388127809c48eb350": {
     "views": []
    },
    "5ce2552b36a04a398832731daa3fa2d4": {
     "views": []
    },
    "5d370f31a87448c2bdeb7a3a245e9924": {
     "views": []
    },
    "5dfc8b095f5a4a978a9966548f09e53c": {
     "views": []
    },
    "5e5846efc7a24cefa1c0530326fdc076": {
     "views": []
    },
    "5e9037a71c13435188734eacc147d995": {
     "views": []
    },
    "5eb423914bde4228aa9eb43b58400aa1": {
     "views": []
    },
    "5ef5487eeef446999ab8a14efaf3d188": {
     "views": []
    },
    "5f2e0f9da0ff4609978700abbed07460": {
     "views": []
    },
    "5fa6a855f7e5456ba7746d9525fbf3ea": {
     "views": []
    },
    "5fbf3567a95c413b883f22eed8c6db49": {
     "views": []
    },
    "5fdbf45ca7aa497184f066c22bc83df9": {
     "views": []
    },
    "602b59de0361467e8a561ca599e27b6d": {
     "views": []
    },
    "602ce38f1ad2487486df794a3d041722": {
     "views": []
    },
    "6046b08e1b354a099564bdda27f45503": {
     "views": []
    },
    "612c0fad28ae4e3f93bd0e791cd1388c": {
     "views": []
    },
    "62132057a19a438d93ed78149f48d022": {
     "views": []
    },
    "627db8cbb19842a8b2a08ed7c6eb5029": {
     "views": []
    },
    "629f0de8c7fb446094a6a79863169389": {
     "views": []
    },
    "62e3a5b424864cd680bc3b39df19cea0": {
     "views": []
    },
    "62f03fad9b874c7a84f16f1f230bda54": {
     "views": []
    },
    "636869d7ace94949abbf6d20eafa4bfd": {
     "views": []
    },
    "63854ff81ea242848b61db4e95a58529": {
     "views": []
    },
    "6393f2175ee645979c08c279e4df7663": {
     "views": []
    },
    "6396f929f5034e42891e8caa4ffa893c": {
     "views": []
    },
    "63c8104ebd1f465bba35c2f44b52285a": {
     "views": []
    },
    "63f9c5f1ebf04bfa88a40f9aac4ec6d5": {
     "views": []
    },
    "642ba6c946bc4e5b9ad92490affe1425": {
     "views": []
    },
    "6454cf118b8a46938274a5b57958a6f8": {
     "views": []
    },
    "64b23fed4d304c819197fc94b72d57fb": {
     "views": []
    },
    "650a4b80024a4f17811b996ebe9db4b5": {
     "views": []
    },
    "6545f4eed9fc45da96a22ac48306f894": {
     "views": []
    },
    "6547c52d08c04dc8876428ae4bc73e3d": {
     "views": []
    },
    "65a3e1df91e74a7faf3fb624d4336b68": {
     "views": []
    },
    "65d98d6ecfb54852a880392b09d6a15d": {
     "views": []
    },
    "6623d2a81bfc47e99bbb5bfd551da5a3": {
     "views": []
    },
    "663bb834f68f4f4da8d97dbbdcfd88eb": {
     "views": []
    },
    "66c90e42f54241cea47cb11218fff08b": {
     "views": []
    },
    "66e2e2ba7fcc4d8b8cbe336daa584029": {
     "views": []
    },
    "66e9a20978da4d33aa78b975dfd4ccfc": {
     "views": []
    },
    "6730ae9e5bec402fa8de387a919ba25a": {
     "views": []
    },
    "68f3903d084747b0ab2a69fa0202a042": {
     "views": []
    },
    "697bcd1b40b34082b845644a8820815f": {
     "views": []
    },
    "69815c677ee843b983451d0b325d5f5c": {
     "views": []
    },
    "69c57fab094b442c8bd94bf989138f8e": {
     "views": []
    },
    "69e45a22b25443cb94828f4b740abb35": {
     "views": []
    },
    "6a2de3adb4894aa9af19e19718652b27": {
     "views": []
    },
    "6a49d88fefb144b69796e5abb09037ee": {
     "views": []
    },
    "6a4ec26a14554a09a1d543a7ddf65e79": {
     "views": []
    },
    "6a6c941f5ecc4ca19884f1910739d8b0": {
     "views": []
    },
    "6a99003212e045588d2cab20c127c0c0": {
     "views": []
    },
    "6ab4c4a3679148cd8561c5efeb4d855c": {
     "views": []
    },
    "6abe961dbd0f48ebad66a4858dc60777": {
     "views": []
    },
    "6acab5316d684a4b8ddfc983e54ae60c": {
     "views": []
    },
    "6b0dc63caddb488a9f9354925048b2cb": {
     "views": []
    },
    "6b1eb9cdf473489caf2d0f975fed7c61": {
     "views": []
    },
    "6b46e918b1364cd1ae51a0b235496f0c": {
     "views": []
    },
    "6c27ef2d32fa42c49c1e32f770c36e4d": {
     "views": []
    },
    "6c586c14270241dea2fb72226b22cc0b": {
     "views": []
    },
    "6d00eeef56fb4a82b7a13d6cb4e76a59": {
     "views": []
    },
    "6d10718ec4ea4ece87c90507963bbea4": {
     "views": []
    },
    "6da7e5dc6de9406194bb9563d9cb8a39": {
     "views": []
    },
    "6db003eb20c84eb6b9d0a42022e45e20": {
     "views": []
    },
    "6dc40438333d4b31830ff5d9806b7678": {
     "views": []
    },
    "6dcaff276dba4224ad95aa51c55bc070": {
     "views": []
    },
    "6e29c590b4574069bc141e918c5e1abb": {
     "views": []
    },
    "6e2d1f80e4e14b17abfdf0e3cd952465": {
     "views": []
    },
    "6e58726352dc4a3ca7047222afd9566e": {
     "views": []
    },
    "6ec252e81c1949f2925c3b1ef8d1c905": {
     "views": []
    },
    "6ec3e738d0f043e1b033246abee1dae3": {
     "views": []
    },
    "6efc2bd1fdc842fd894740fc7d4ae6c8": {
     "views": []
    },
    "6f408558990b44b0a6b55cf6cd8d04bf": {
     "views": []
    },
    "6f86720220ed45459394c6e4e2f34311": {
     "views": []
    },
    "6faae887c8f84221adb53fe0ceae601e": {
     "views": []
    },
    "70b9e14101784ccb82767ac45bf44775": {
     "views": []
    },
    "70fbb6d64c1b4666a435032caca63fd3": {
     "views": []
    },
    "7142a192099e488f8f305ed8c5f206cd": {
     "views": []
    },
    "7163e9349b564658a8fae6e3c8bf2ef7": {
     "views": []
    },
    "71cd8f14022547ff95622bb70b61136e": {
     "views": []
    },
    "71dfb72edab34c1cb3d54bbf03638fcc": {
     "views": []
    },
    "7213700f9d0a414d963abf3f57b6e034": {
     "views": []
    },
    "724d6bfeb8d746638d1090960cc91916": {
     "views": []
    },
    "7254ef0602184787ada4c50957324e3a": {
     "views": []
    },
    "72770d383e7146749f2b924f8c86746a": {
     "views": []
    },
    "732c2c2d026c4e928c1b82eef2a4e57f": {
     "views": []
    },
    "739c6240bad2402aa4acb4b0fc99ef82": {
     "views": []
    },
    "73ba56c06a6f42c4b1b2d2fab00643c1": {
     "views": []
    },
    "73d9fc37bd6944c3928455a4fa0e335a": {
     "views": []
    },
    "742ce73a67a84081b9db096a69ec32e4": {
     "views": []
    },
    "747a6af8cd144e0db32f7cbc71b6fd27": {
     "views": []
    },
    "74f01c9c9b044f349b8705eb035721d9": {
     "views": []
    },
    "75137e413eda434f90145e4692af4312": {
     "views": []
    },
    "7514dcc4cb4f4949b478c60ed117c3f7": {
     "views": []
    },
    "7554625634f34672a315a1555ffd1278": {
     "views": []
    },
    "75b2539b3ee44d348d602c3ccb14a648": {
     "views": []
    },
    "75e50763ad184667bc5ba0049eae3ab6": {
     "views": []
    },
    "761df978524f4a0e957aaef4ff9539f1": {
     "views": []
    },
    "7673368dd03a4e2a98a6fab2f92e7a46": {
     "views": []
    },
    "767dfc970cbf4898b2df9913a56f44e9": {
     "views": []
    },
    "7735df57eb8148d189e1eec24976922b": {
     "views": []
    },
    "7738b758d31f40549a546d651044f302": {
     "views": []
    },
    "78ea35fcb33b4b3b9b416c45a1d8b5d8": {
     "views": []
    },
    "795621c434494417be10912b92c156f9": {
     "views": []
    },
    "79bbdc6a0cc54a89be9d890f25758e74": {
     "views": []
    },
    "7a1f5538bb764617befd4e71bb551703": {
     "views": []
    },
    "7a396825c965446faa950e94d95dd546": {
     "views": []
    },
    "7a6d957522c94a0e8d81c65ab53bdb10": {
     "views": []
    },
    "7a70161bc00b481ea6d28da7b0b98e49": {
     "views": []
    },
    "7a92d5d0cd1946ba8f62861f4635f29f": {
     "views": []
    },
    "7b131935e6f54f3b8a1ea7947ced2b73": {
     "views": []
    },
    "7c21b7171bdb4ce8aa5a70166a402539": {
     "views": []
    },
    "7c4b42df0b174c258c2cf4c496ea9959": {
     "views": []
    },
    "7c71f38f850e4f1cb894ec5e9ea98742": {
     "views": []
    },
    "7cf3be0371e749a29e68bd4a7a311187": {
     "views": []
    },
    "7cf663c2d651420695c309c5dfe0ed9e": {
     "views": []
    },
    "7d002c710ce94b0eac2d2e110676d9d9": {
     "views": []
    },
    "7d0d799190444742bc419d4d39382048": {
     "views": []
    },
    "7d25efbd42bb4d33ae4f73935e8af8c2": {
     "views": []
    },
    "7d3335244aa6470e91cb82e37818ec2d": {
     "views": []
    },
    "7d7ba818602d488191a11264e455e8e9": {
     "views": []
    },
    "7dabbf4d7396444698155a9a49826d39": {
     "views": []
    },
    "7dd447c355604e6a80aa472b9d8a541f": {
     "views": []
    },
    "7e0542f4f2d44ad2a34b756ef3ad4e95": {
     "views": []
    },
    "7e9b607ed23b45bdb1711c9be15d7a66": {
     "views": []
    },
    "7f0c019474e242f5ad0b7c0de9585e23": {
     "views": []
    },
    "7f31bfd90d6048fe89df103807e51acc": {
     "views": []
    },
    "813eee2b5886496e875d26ebcd46d6b8": {
     "views": []
    },
    "815f9b9d0fb24639bcfc610da6b940e5": {
     "views": []
    },
    "819eecf265bd482f894a4725ba3b318c": {
     "views": []
    },
    "81af54b77b28450a90209a214b297f6b": {
     "views": []
    },
    "81b085cd5f8e419ab35e3038740f8554": {
     "views": []
    },
    "820691cc75374739872e5f003e03677d": {
     "views": []
    },
    "825c1a636541458db261a4cc8e543586": {
     "views": []
    },
    "8299907cdce54d9ea9dd43784e77b01f": {
     "views": []
    },
    "8373e293659a44d685a5a80578c83797": {
     "views": []
    },
    "83f5a81c2fb74b14adb0575f4e87e54b": {
     "views": []
    },
    "848f80126bd8441098d0bcc9e081efe1": {
     "views": []
    },
    "84bf30529ce74d3ba358495a9bafbee2": {
     "views": []
    },
    "855f1005ba2d4776ac41235ba01b6329": {
     "views": []
    },
    "857ac7ede45c495985862a251375f0aa": {
     "views": []
    },
    "857d383c89ac49a986c24c6646d7721a": {
     "views": []
    },
    "85c31f4eddc9425dad537d21e6523981": {
     "views": []
    },
    "85d182cb29c048b1a061cde465e5b1e0": {
     "views": []
    },
    "8609f475c26b46ca99da676e34ebd45f": {
     "views": []
    },
    "864488d2bf8b4406ba14761aed049de3": {
     "views": []
    },
    "86b530676c5f46b79922688264130b90": {
     "views": []
    },
    "86d3ca4b437f4e329bce14e36ef07ecc": {
     "views": []
    },
    "870d5b5e34ff470fa21f6e17482b2b51": {
     "views": []
    },
    "8775790dd2cd4df38ae17b951b722306": {
     "views": []
    },
    "87cc6fb5462347a883167b44a0b04e02": {
     "views": []
    },
    "881316c6ab4142a8b153174d813cb9b0": {
     "views": []
    },
    "882d45de3525481d911e2d5df6bdb120": {
     "views": []
    },
    "885c5a29137c4a72aab0eafddc6c8250": {
     "views": []
    },
    "893ba3d866ad44988c23eb8cb805841f": {
     "views": []
    },
    "893e8d7b7ec844afa2cb0c84a0339ac7": {
     "views": []
    },
    "89a26d81400246108af0a54590936ea3": {
     "views": []
    },
    "89e834d810be42c8b0f5b3bc5889987d": {
     "views": []
    },
    "8a2677bde1f14108b72b20994a973dd2": {
     "views": []
    },
    "8a7197ca618b4aa78016fc23e88485c9": {
     "views": []
    },
    "8a7d7248449e4cfea1bc5f1db0830408": {
     "views": []
    },
    "8bb9b1e0636b41309e906b8680823d74": {
     "views": []
    },
    "8bc5afe403c54ae7bc2da3a090078218": {
     "views": []
    },
    "8c4aa8cae3c34968b388e824ce280abd": {
     "views": []
    },
    "8c69eca5f85f4a19958e82bad2ee85fd": {
     "views": []
    },
    "8c72d7f8c5a04484a846ced046a64322": {
     "views": []
    },
    "8c7771a4d22144f4a8a36d8b62a1d2c3": {
     "views": []
    },
    "8c7f9cdd259b4251bb6bf29fdecf63e1": {
     "views": []
    },
    "8cf4a4e46fd1465ea4eb52ccbae7b131": {
     "views": []
    },
    "8d18f36d70f84102afb0990052075b72": {
     "views": []
    },
    "8d76fe73c3514d739ac91201c7c72ac1": {
     "views": []
    },
    "8dbc5e453eba47c3be8fa6f1e669d0f2": {
     "views": []
    },
    "8dc2fba305a04136a77f86b9b880d6b3": {
     "views": []
    },
    "8e68335174394e29aa2e0970aa13f8ed": {
     "views": []
    },
    "8ec669c1ad454cc998697071e1964b6a": {
     "views": []
    },
    "8ed61dc893c144db9000dddbddaa3142": {
     "views": []
    },
    "8ee69c3f62c740aaaff69c1034ea2234": {
     "views": []
    },
    "8f09dec633264798b08c5226e31fa088": {
     "views": []
    },
    "8f2f040923414a73874ffe94aac40025": {
     "views": []
    },
    "8f7691c271e9485bb7d83ff72ec0b555": {
     "views": []
    },
    "8fd6e057cbfc4bdaa3ebdaabef6edcc2": {
     "views": []
    },
    "8fe82e5765a74648b78e8351b9a06805": {
     "views": []
    },
    "90087ec0518e4fd988fefae13fe7a75a": {
     "views": []
    },
    "90475e42f78b4839bca3a026a091861a": {
     "views": []
    },
    "904d2a0a36d0462ca104f2523b6b58d8": {
     "views": []
    },
    "912bcf0d767a4a9a9d3d73b7eee4b949": {
     "views": []
    },
    "91533cfde822447fa8073a3ee6f6b013": {
     "views": []
    },
    "915b337dd9494bb3819ae2cc2e881fb3": {
     "views": []
    },
    "916ef2d0803a49c589ac750e834f5700": {
     "views": []
    },
    "91ab63db7a8d4612b5a853c9ee874b57": {
     "views": []
    },
    "91dcdc4901f341018c460c68c719ef05": {
     "views": []
    },
    "92045a56d135476ca8d17b7f56823f63": {
     "views": []
    },
    "92350b4d158144da913bbd0122c8c76a": {
     "views": []
    },
    "92c0ceace71f497eb35993233f34ecad": {
     "views": []
    },
    "92e0f64ec4f9495f95a1d108ef66c110": {
     "views": []
    },
    "9350de261a6d48c091430076e9d89175": {
     "views": []
    },
    "9369a904f29f402090640ccdc8f8af75": {
     "views": []
    },
    "93a618c91ea0437ab912aaa598175edc": {
     "views": []
    },
    "93ed902ba5a04d459602c998006652f8": {
     "views": []
    },
    "943ee323d3e3498f8553b94352fdff6b": {
     "views": []
    },
    "94ab9c0959754cfbb8b9b02ab8135506": {
     "views": []
    },
    "950e3dd076ad436284646adbca418ee2": {
     "views": []
    },
    "9534c3ad14ba4af1b7c8eaef9e4b28cb": {
     "views": []
    },
    "955fb5a171db4d2ea0dacc1c80bda77f": {
     "views": []
    },
    "9635a428f15d4705afa67c10c2b1deae": {
     "views": []
    },
    "96855eadb0f44be5837bca11daff366e": {
     "views": []
    },
    "96a11cc33023486c82836c585a8aa251": {
     "views": []
    },
    "9730173c309442b092346b3f8c14f943": {
     "views": []
    },
    "97599c64131b4b4fb89fd592eafc30a3": {
     "views": []
    },
    "9777ffb095c34100a9fcc92e1e7a43cd": {
     "views": []
    },
    "978dc2f94d0941af91bdf90258af28ed": {
     "views": []
    },
    "986e140520f04668b91fe8e92b63319f": {
     "views": []
    },
    "98e8bca75afc4d729a9b7f50787dce84": {
     "views": []
    },
    "991869302e764d09ab418047dec44a3a": {
     "views": []
    },
    "9956286049774e5bac133025762cbb3f": {
     "views": []
    },
    "99575b44374849e3bf41571e2116b02c": {
     "views": []
    },
    "9a2d96afb7db41fa9561566d9b79bc6c": {
     "views": []
    },
    "9a6505e2a3d64aeaac58c7f60fe43f25": {
     "views": []
    },
    "9ad066b65cc9472b80cffc797649a4aa": {
     "views": []
    },
    "9b262f625e89417b962cc497c7275f91": {
     "views": []
    },
    "9b3e958b55b0477d9499415f73ab490c": {
     "views": []
    },
    "9b5b050692c34f9b8b4d65ca11821bad": {
     "views": []
    },
    "9be2ed16285a49ea94d38612679d0c87": {
     "views": []
    },
    "9be7cc6ef39d4d428410c6f26e6a9726": {
     "views": []
    },
    "9c33349549c84bbb92858bb0939cf907": {
     "views": []
    },
    "9c57a990c79943e7a37f190bd53caf55": {
     "views": []
    },
    "9c6b4450600049e2b18a770d969cde13": {
     "views": []
    },
    "9ca870d90b0c4c4dba0af175b8e7c2d0": {
     "views": []
    },
    "9d9893e913404f9e8adfe81ea7fec4e7": {
     "views": []
    },
    "9db209975c7c4828830b75116f0d5357": {
     "views": []
    },
    "9dcfade411134e29a50a2c1e34671965": {
     "views": []
    },
    "9e9138a818e34b7296412b2474a51d18": {
     "views": []
    },
    "9ec92e40c9274eedb7df622d138328da": {
     "views": []
    },
    "9ecce0fb945c4a21bc059ca8b1d7c2fc": {
     "views": []
    },
    "9f48f046a8c14037bb8d710a025be023": {
     "views": []
    },
    "9fc036bc1fea49eea9ed61ec0946d426": {
     "views": []
    },
    "9fdef5e742c744c78c6c597f52300c03": {
     "views": []
    },
    "9ff458ed935f4e85b165e1c7042a0066": {
     "views": []
    },
    "a03a2c3714014d319f044f704b52e15c": {
     "views": []
    },
    "a06495a0de1043dbbfbd414b63873810": {
     "views": []
    },
    "a0cd3125ac974307b6660cb7d7cc4f48": {
     "views": []
    },
    "a1783e3f057c493c9a88760d5cdd934a": {
     "views": []
    },
    "a182aedc691540069ef11dc65d51d881": {
     "views": []
    },
    "a1bd01798fa84d50ab8acdc0fdbf68f2": {
     "views": []
    },
    "a1e6515ab95c4cfe94d1ee3d4dbdc25d": {
     "views": []
    },
    "a2139cf1c6764beeabb63b36e7df35ea": {
     "views": []
    },
    "a247d7e93c2b4f1a83f5a32670d23be8": {
     "views": []
    },
    "a2df4bc5b91a418a8ae7ba4085302d9a": {
     "views": []
    },
    "a318d398d4d94c269f6b174dcde58de2": {
     "views": []
    },
    "a3bc5093d9f3494ea8c716ed6d51d787": {
     "views": []
    },
    "a3d25cdb183d4040801e38c4961fc4c1": {
     "views": []
    },
    "a4204d6b013e496b8dbc1f57449753e5": {
     "views": []
    },
    "a4321a7f98004384935749dc6788f184": {
     "views": []
    },
    "a449ab38d25d465cbc49edcfb6a79157": {
     "views": []
    },
    "a47659f4d22c4c30a753b121fb6543eb": {
     "views": []
    },
    "a48ee3f7eb9b4a5482d257f9ce866a0d": {
     "views": []
    },
    "a48fe9cd35fe4863ad8b9a681d3c6e65": {
     "views": []
    },
    "a49d8ca6224949578bb96ea9c149b6e0": {
     "views": []
    },
    "a4db03f25f4e464fb6c97728fa9e7521": {
     "views": []
    },
    "a4dcb9db427f41afa2137726c85f5583": {
     "views": []
    },
    "a51c6427c8574f53b15f1b33fe061e31": {
     "views": []
    },
    "a5f5009e490945d99fa12d4292a0459d": {
     "views": []
    },
    "a666395cd1bf4d2ea801dbde491f0630": {
     "views": []
    },
    "a66deb6442594c268f8e8b94b7d6d284": {
     "views": []
    },
    "a6a6838e9ae2463ca9c13860c197c2ef": {
     "views": []
    },
    "a6a9ec89447141a896f41c12edc597ab": {
     "views": []
    },
    "a6b532fb86d74b138d3ae91863fa9f05": {
     "views": []
    },
    "a6d6ab5fdf76452fb7725baf464d0ad5": {
     "views": []
    },
    "a6dc6af27e47417c9c30c600a50afcbf": {
     "views": []
    },
    "a6f3432ca3c54a328aab0b4e5fc3f021": {
     "views": []
    },
    "a7007845dfaf448f9414f438a1d41868": {
     "views": []
    },
    "a74395f1f5bb4718b1d0469bc3822b61": {
     "views": []
    },
    "a795d0eea57b4a0a878b3d26b3e5d146": {
     "views": []
    },
    "a8154add0a8d4fd8ad880e0b08ef5b60": {
     "views": []
    },
    "a818245c70604c70b03da015cda401f4": {
     "views": []
    },
    "a82a3a960da84193a033c30b5edd1626": {
     "views": []
    },
    "a848a11b786744858a9ebb30a8769062": {
     "views": []
    },
    "a91f3e8d32d44883badfdb4c62fb5b22": {
     "views": []
    },
    "a944f24d82814c4eac1866983c27b730": {
     "views": []
    },
    "a963869a2cf4472492b2a4c587083cc3": {
     "views": []
    },
    "aa132217aa434cc999bd63d29a1d6d36": {
     "views": []
    },
    "aa1ad0614f6b4925ad1ea4ea37bb5716": {
     "views": []
    },
    "aa9513825cdb4a169415f5881b8e7c85": {
     "views": []
    },
    "ab5253a2315340239d09dcdcb9e72552": {
     "views": []
    },
    "ab5fa1fb064349d9a585bfbc13e677f5": {
     "views": []
    },
    "ab6df5e363c14e9682075bf06d005614": {
     "views": []
    },
    "ac0cc9c54f2048c794bb67ab0ff62f22": {
     "views": []
    },
    "ac1009835e6a4f75b8a2b0432093a899": {
     "views": []
    },
    "ac6a6e91e8504b748e6466b5c54a322b": {
     "views": []
    },
    "ace76f0dcec24448b30aee053c9cba4f": {
     "views": []
    },
    "ad1afbebc05c4f2dabd5ecf914635e75": {
     "views": []
    },
    "ad27f1e3f1f14fc28d41c1c38264e480": {
     "views": []
    },
    "ad39b28c5e7b4b9dbd303bd5993b6415": {
     "views": []
    },
    "ad4b39bf2aac41cb9ee015191fe1d8ba": {
     "views": []
    },
    "ad81187913d34147b58d66edbf576db8": {
     "views": []
    },
    "ada8623cabd445578ef8f5b8559eef5b": {
     "views": []
    },
    "ae2cf61bf9904420910e6e2ac26398e8": {
     "views": []
    },
    "ae7b38f9c6f342a881068987a82e8438": {
     "views": []
    },
    "aede242bb27a49da908342065d3d31f0": {
     "views": []
    },
    "af2b911ccc1641c49bfe4e7284ab7c3d": {
     "views": []
    },
    "af41c69bd4284b8187cdb6958c53cea0": {
     "views": []
    },
    "af5c9d505d7c487e992fd3a97aff9778": {
     "views": []
    },
    "afa347501b82403596e834b37c135c7a": {
     "views": []
    },
    "afe6b88268bf42fe98ed628bb32e1e84": {
     "views": []
    },
    "b0078e0bd3c943a5a963c99eccb9e79d": {
     "views": []
    },
    "b02008ac0f644e1cab127ca6e803628c": {
     "views": []
    },
    "b10635479735498696e0434cf21f9231": {
     "views": []
    },
    "b139c1d82a254ff1ba11eb62dae42989": {
     "views": []
    },
    "b1e1e7a94dee47e2943075f64e8a5441": {
     "views": []
    },
    "b314c93a034b40c9a8281f8417e5c3f3": {
     "views": []
    },
    "b3967ecb386845a984e9b02b913b60c2": {
     "views": []
    },
    "b3d546c2cb70455c854cbe78b5e74322": {
     "views": []
    },
    "b451700eb4c546eaabdbccd74f3425ee": {
     "views": []
    },
    "b4935325cc514a908f20527b2b5c449f": {
     "views": []
    },
    "b531f302c67f4941866b7d1e7727d551": {
     "views": []
    },
    "b61bfbbcfcb44f939289c543bba37e1e": {
     "views": []
    },
    "b623b5ad635e47d3ba930ecdfc3ecc03": {
     "views": []
    },
    "b6bd34ae91c94bef841756973662d250": {
     "views": []
    },
    "b73a92fa3abf4a6a82a4b74d76589be2": {
     "views": []
    },
    "b74b208846e444c0996f3d945e4587e5": {
     "views": []
    },
    "b78222cf1dbb473698bd1311fc8c3a32": {
     "views": []
    },
    "b815881e710e477aaf7be9d985b17ddc": {
     "views": []
    },
    "b82274b7cdfc4e6e993234db25f06612": {
     "views": []
    },
    "b84c9770ce904b20a7b26bb7138c4a18": {
     "views": []
    },
    "b93fc434dde34f2091378cd1510fa862": {
     "views": []
    },
    "b96c41164d764d65a2423a8c6f64646f": {
     "views": []
    },
    "b9c7343bc55a4f68b6848463689086d9": {
     "views": []
    },
    "b9cab2b97d2649ed86af2ab77f3cee7a": {
     "views": []
    },
    "ba3af473889f4d2586ca4e3cb108a3cf": {
     "views": []
    },
    "ba804a79cb724869a3987324eb32e655": {
     "views": []
    },
    "baa0076f0a0a45efa32cc5a743c51541": {
     "views": []
    },
    "babfc152ffb048c99b85c30fff6cf17d": {
     "views": []
    },
    "bb0e45f1df20404cbcfef624ffdc1abb": {
     "views": []
    },
    "bbe6bb4fc0974e1999bee477d0f02e35": {
     "views": []
    },
    "bbf10d482760410f946c44a6003466dd": {
     "views": []
    },
    "bc4a71a1f22a475a9a3e35aef7e7b06f": {
     "views": []
    },
    "bc5ac1432efc4be8a4f7959ca261b297": {
     "views": []
    },
    "bc817880e6ac40ce805ce09e66f0c21f": {
     "views": []
    },
    "bcba28b69f484589bb377c97c79797ea": {
     "views": []
    },
    "bcf89bd5c3be475699553e775276a1c5": {
     "views": []
    },
    "bd3374cef2d6440a9c981835037133b2": {
     "views": []
    },
    "bd359e07823542369c45e99180a25754": {
     "views": []
    },
    "bdcca762e88d485db86d99e43e707edb": {
     "views": []
    },
    "be163ced5e654aa38536e7d9382fc4e7": {
     "views": []
    },
    "be22d7bf9021440eb2c9ec789b62ae02": {
     "views": []
    },
    "be31da49f92a4040a4c50be81d5c6389": {
     "views": []
    },
    "be4a1d824bdf44a782055136bb750a93": {
     "views": []
    },
    "bf6243f4011446e48f14cfe3ffc2e24a": {
     "views": []
    },
    "bfa91445dce742de87abb5cb1dc968e7": {
     "views": []
    },
    "c0209f9363234c9c9a589121976787a1": {
     "views": []
    },
    "c0eceaac33b34d468f91cdffae0663ab": {
     "views": []
    },
    "c1662c6831454690abe4bf565c71a9e3": {
     "views": []
    },
    "c1c5a472899f45b294f92b3343f21e09": {
     "views": []
    },
    "c1da1485b4034dd38edf57200f0cb21d": {
     "views": []
    },
    "c1e77d45fe624eca9ee3f5ee489e81fa": {
     "views": []
    },
    "c271117b6e814372860fdff2fe8f6e96": {
     "views": []
    },
    "c27323eb8e484434b376c7a2b3509b25": {
     "views": []
    },
    "c27d30488518402b85fa171070ea09db": {
     "views": []
    },
    "c2b2881971df4649b3a24943db1a513f": {
     "views": []
    },
    "c309b8dfcd224d759364fe93d2cd5f06": {
     "views": []
    },
    "c316df536dc044b7ab313c021ec17b25": {
     "views": []
    },
    "c3f70b0eda8e40cc82a7041774f5efb5": {
     "views": []
    },
    "c4631d18c22e496d9e462b1464d6d636": {
     "views": []
    },
    "c46763f6b1164ad0ad1233840148fbcf": {
     "views": []
    },
    "c53a898c4ce846d280bd090caf954fe9": {
     "views": []
    },
    "c583d4fa45394175818dda7e75aea4da": {
     "views": []
    },
    "c5fd56e90c604328b380524bb9407b58": {
     "views": []
    },
    "c650e397da314a4981ed11a319ad6339": {
     "views": []
    },
    "c71ad84048a8459681d778110e9e7a99": {
     "views": []
    },
    "c773d12ba9ec4a608d8d684507e7c4fb": {
     "views": []
    },
    "c7a264d10676497382e58a1fe99e4aef": {
     "views": []
    },
    "c7ad0222b23d49ed9ba684be8bca9275": {
     "views": []
    },
    "c7da0edef07440089df6b8fd62673a8c": {
     "views": []
    },
    "c85339d307b7465ebaaaf26abfb38f09": {
     "views": []
    },
    "c85b86a44bb043a3b8ee7b7f3b7198d2": {
     "views": []
    },
    "c8f9aee32f974a85902592abe96b6fb0": {
     "views": []
    },
    "c96df8ee732b4813bb81ec0e361faf41": {
     "views": []
    },
    "c96f3a8da4e142f982bd9fd562060f75": {
     "views": []
    },
    "c9b2288a335944a99d21863f07bf784c": {
     "views": []
    },
    "c9b97130f4924992a04d70ed7c71dc6e": {
     "views": []
    },
    "c9c36905af52405491fc08f77db40af4": {
     "views": []
    },
    "ca294bb9c5e344c7876405fa8980afa3": {
     "views": []
    },
    "ca32ae86f6924ceb97d5fdcaa9ef1bbd": {
     "views": []
    },
    "cab04a56f12f4df980a8fd7679d8e432": {
     "views": []
    },
    "cb119139ac924ef282f9d0efeb43b289": {
     "views": []
    },
    "cb76817c6d1f48efbc8f7a1548953a00": {
     "views": []
    },
    "cbe71e3ee29243b38ff0f645a8bf4855": {
     "views": []
    },
    "cc64f8c8fa55404596fdc0efad68d064": {
     "views": []
    },
    "cce5340601514e52a74eb2b231ec3039": {
     "views": []
    },
    "cd48ab0f15384fbd83411409589419ca": {
     "views": []
    },
    "cdf7e1a6a733447b953bc7670345360d": {
     "views": []
    },
    "ce07d7f2a5fb44aca817e220a535376f": {
     "views": []
    },
    "ce81a209837148fe822a7cceeff634ad": {
     "views": []
    },
    "ce85a295ca4e4a719ffffc19d945618b": {
     "views": []
    },
    "ce8eddda1a54468fb032ce707e40617e": {
     "views": []
    },
    "cf7212566ea443ec85beb863434e130a": {
     "views": []
    },
    "d0af33977f8448e9b0df1e24a7fe7ec2": {
     "views": []
    },
    "d10d8e5d831141429f4d596a9451025d": {
     "views": []
    },
    "d1d12c873f934bd6bbe62db88941aeba": {
     "views": []
    },
    "d1e88008f7c043a9a653f0fa9ff112de": {
     "views": []
    },
    "d1f7ac034a69499b892875208c70073b": {
     "views": []
    },
    "d26b082bf34a49b5800573aa48124c3e": {
     "views": []
    },
    "d3696fcdb4ac4bdaaf306c8f814ce840": {
     "views": []
    },
    "d3b27a41df894021b01dc3809054d861": {
     "views": []
    },
    "d49d4c25d3964ea683a3d8a8d8a34762": {
     "views": []
    },
    "d679b2a87c294eada04a88441a007590": {
     "views": []
    },
    "d6a12accde0a4e598551f823f667664d": {
     "views": []
    },
    "d6c0811ad43540bcace783e0b5b298ed": {
     "views": []
    },
    "d6d4a25f3ab7423dbdb6a849d2954445": {
     "views": []
    },
    "d70d0b2f86bb46f4989eeab4eedb953a": {
     "views": []
    },
    "d77de16c22474446a995915674ec4a57": {
     "views": []
    },
    "d7d958955f174bc7abbd4b69785570f2": {
     "views": []
    },
    "d82782bc3621455b808d455e66ca7cf0": {
     "views": []
    },
    "d856a8ae15f34095ab4dcb89fbefb919": {
     "views": []
    },
    "d8d65912b5ef4717b778dce06fc963fb": {
     "views": []
    },
    "d8e904b577b647139ac86afefd6303fb": {
     "views": []
    },
    "d94050020ef74364aa4d5e8b83303199": {
     "views": []
    },
    "d994a45871384e279d576505d58e5b88": {
     "views": []
    },
    "d9dc026f89734cf9896ee2605b050375": {
     "views": []
    },
    "d9e4889df84a4d9a85b1175ce5566ef4": {
     "views": []
    },
    "da0681ef425c4ca481fa96a3205d63d2": {
     "views": []
    },
    "da720ba838d24ca7a5766b25bf6b705f": {
     "views": []
    },
    "dad35999516d4dbdafb7d7ef258753b2": {
     "views": []
    },
    "db453f9cd0894756b57530d12fe5eff6": {
     "views": []
    },
    "db48a06997c849f6aa7f16aaf38623fa": {
     "views": []
    },
    "db4ad2233b6f40f3a19494d0f7697053": {
     "views": []
    },
    "dbf892043c8f451bac5e8488a4ab4c3b": {
     "views": []
    },
    "dc2fea7f7bfc47abac7c944988f4c263": {
     "views": []
    },
    "dc90b8ae1fa647a09ca093924c1b500f": {
     "views": []
    },
    "dcbf1e265c9445a7a3bd18b6f2e93289": {
     "views": []
    },
    "dcc2b907f879487faff3ef71cd313b12": {
     "views": []
    },
    "dd4ba2a4c9304549be2e37672acf9dd8": {
     "views": []
    },
    "ddb5e4de306e413b80771766fa94d5c8": {
     "views": []
    },
    "ddc8b6e170014523a5da05a13bf8718b": {
     "views": []
    },
    "df07535f4820489b99be8e399a33391c": {
     "views": []
    },
    "df24af52d76f4140aeb3d48d67df2366": {
     "views": []
    },
    "df505c88b9aa42e2b4f9ab56af3555cf": {
     "views": []
    },
    "df5cd0a34c94443a8c8c0d4e55bc565a": {
     "views": []
    },
    "df62f14ee758415ba8e48aeb8ff34958": {
     "views": []
    },
    "e00d7619443a4360bfb56ec2777fc8d1": {
     "views": []
    },
    "e0f3df8f1ff841e9a5e263ba98838b26": {
     "views": []
    },
    "e1013d9c6ea04f0b874357de8019824a": {
     "views": []
    },
    "e1af2236e11d4f99a8c081c7299b4f6b": {
     "views": []
    },
    "e1b8357f6cdc49f4b61e0ee546122d1b": {
     "views": []
    },
    "e299958da1b04bf0844caa23e111539f": {
     "views": []
    },
    "e2a93efca89c453d9b81e3bd49bed802": {
     "views": []
    },
    "e34a9d8bcc6443f0beee31f8f73a6555": {
     "views": []
    },
    "e34aa71b871e46499fb9a328e5a2605e": {
     "views": []
    },
    "e35d2404ee5347419f0924b6cc875221": {
     "views": []
    },
    "e3911d668fbf41c4a22faf78aea997fe": {
     "views": []
    },
    "e39e29a3ad7e432487ca72a0d2ea1070": {
     "views": []
    },
    "e3b999996a804d4787be9b0030e2a1e7": {
     "views": []
    },
    "e3c4b948afb9428398f22ec0c8738597": {
     "views": []
    },
    "e3d1221c04ea451c9fbf997fac61da52": {
     "views": []
    },
    "e430c099ab4341a98761f76f43661a53": {
     "views": []
    },
    "e444969f58e045d099abace0a7dd47d2": {
     "views": []
    },
    "e4da5118cf2546f4b9129da5e11481e9": {
     "views": []
    },
    "e5c2097044004d7b937f035f33e97f72": {
     "views": []
    },
    "e5c48da1a4194a579ddbd12d8fd70168": {
     "views": []
    },
    "e60bfa0391de41f096fc48ca82d6bb96": {
     "views": []
    },
    "e6763d1a5a2346f39205365b4e903d6f": {
     "views": []
    },
    "e6b8ec9f58d440dd83bf66c196f832f7": {
     "views": []
    },
    "e6d1a41ea94c437d9835acbac663e778": {
     "views": []
    },
    "e7c5e53c20704c148ad3a695ffd93170": {
     "views": []
    },
    "e7d1a91541bb4549873efbdf7eee4d4a": {
     "views": []
    },
    "e814450ffe084a049e9db75d3281462c": {
     "views": []
    },
    "e87824c4e39f440480c82d36b2541260": {
     "views": []
    },
    "e878a885fa8a498bb350b566f31ff12c": {
     "views": []
    },
    "e9050e1ce12e441191584d4958e3030b": {
     "views": []
    },
    "e9060b6639c748a9b9cec01dc20b17e4": {
     "views": []
    },
    "e90f10f9a7654206865972ae0c671f73": {
     "views": []
    },
    "e9489de7952d4d56a1f3e8505588af40": {
     "views": []
    },
    "e967e5f3815b4ddd8a8ff50676dccd70": {
     "views": []
    },
    "ea191d196c514ce086f95f92ba7b74b9": {
     "views": []
    },
    "ead29ae7d099433fbd05e72a12fba9ff": {
     "views": []
    },
    "eae2c6be578a46c097b27c1e8b73cd82": {
     "views": []
    },
    "eb3cff3f25f542c4aa505633103f5d39": {
     "views": []
    },
    "eba52071286f4723a78d7af1394a0cc3": {
     "views": []
    },
    "ebb2ee76b4644a6cbe9ec08d2dfc6c53": {
     "views": []
    },
    "ebb9764333e34f2faef4b604b43f75e4": {
     "views": []
    },
    "ebd73437e5dc472b8075cf9fbc5849e7": {
     "views": [
      {
       "cell_index": 11
      }
     ]
    },
    "ed10db22cd3745c7b4419b7749cf4f5e": {
     "views": []
    },
    "ed8b33a94554401d9b12078656bc75b3": {
     "views": []
    },
    "edba8d68b1814322a7ca24faddb1cfe8": {
     "views": []
    },
    "edf6b5dc34ea4c02a32eba5de95df859": {
     "views": []
    },
    "ee6413d9bd2f4b6384780471105088dc": {
     "views": []
    },
    "ee696297c58449859f061a5d07f0dbe2": {
     "views": []
    },
    "ee81fc9cae7248e6b4ce2c14071aff9d": {
     "views": []
    },
    "ee8b6a1799114aaa8e388cb4d24b64f1": {
     "views": []
    },
    "ef54f5059e2242958832417607b59945": {
     "views": []
    },
    "efdab2c2b4674855bc05548586ef1b09": {
     "views": []
    },
    "f0227652dbc841f7b36cf74b28f8ef29": {
     "views": []
    },
    "f02a6627533a4e34835536ca1b2170c9": {
     "views": []
    },
    "f047116f9bb74ed193091e18fbdf1689": {
     "views": []
    },
    "f059123328c8432baedc721a9b34b0cc": {
     "views": []
    },
    "f0ed4297c6224f80980dcadf6981f834": {
     "views": []
    },
    "f0fbb2ceaf494b068707a1238c6f8f9c": {
     "views": []
    },
    "f10210fd4a1c4d83b99372682c316b22": {
     "views": []
    },
    "f13d0a27170b47eabcf7332357078496": {
     "views": []
    },
    "f147b7b4e3f04803b3b4dbbea9c480cd": {
     "views": []
    },
    "f236a4af305a4b3d9e29c41b6d220fdb": {
     "views": []
    },
    "f24182164fe34b78944cea3c4f431f69": {
     "views": []
    },
    "f2445855b70a4190a348740044ebe9c9": {
     "views": []
    },
    "f244a59274f54febb24b29e455f9ba44": {
     "views": []
    },
    "f2549f38fc3a41af9fc273a056ed9194": {
     "views": []
    },
    "f26b0a67f92a4421bb0cce594afdea8a": {
     "views": []
    },
    "f2b31b68a88844f0bded8535b8b06175": {
     "views": []
    },
    "f2b743596d814a458796a1a7cc9031a7": {
     "views": []
    },
    "f2c63f4154b24a838c4bfce8246df433": {
     "views": []
    },
    "f31e6e8f61574d38ac16d1a34c9d10bf": {
     "views": []
    },
    "f384bafa87a94b919b353a927f34bb7e": {
     "views": []
    },
    "f3a6ec0587dd47d09d8d657ddbf55c82": {
     "views": []
    },
    "f3ac622e922a46e2a73e561a3a94fbf0": {
     "views": []
    },
    "f45d7c4dd6464db7a45f3913b4106dac": {
     "views": []
    },
    "f57f93038fb942688719ead63a2539c6": {
     "views": []
    },
    "f5bdc52c30ad4f8c97b5bde0aed79ba7": {
     "views": []
    },
    "f5f4988fe6c1482890caadd967c44d54": {
     "views": []
    },
    "f60480423b9a402a89c98e382fab39a3": {
     "views": []
    },
    "f62278bf3fed45e2bacb9f8108a6a9f2": {
     "views": []
    },
    "f62bff43da534dd6b993e676b41bf958": {
     "views": []
    },
    "f6dc0699b7144876a0df912a420f3072": {
     "views": []
    },
    "f6e1f0e29ecd4a6fad3c88bb746cf2c5": {
     "views": []
    },
    "f702103483a34ba8866af8f96c5a2c6e": {
     "views": []
    },
    "f773034173f14c8c9d5b71dd9c508b25": {
     "views": []
    },
    "f7a4cc47f5bb48d78a89ff425da3f464": {
     "views": []
    },
    "f8078237d5ba48268912abe9dcdaf7be": {
     "views": []
    },
    "f8ab9bd4f7b6457385a87b49aee0cf1e": {
     "views": []
    },
    "f8fc7e7405e3483e9cce7d306192a642": {
     "views": []
    },
    "f91c48b45efa42a5b5cd4a3d088c03db": {
     "views": []
    },
    "fa0464e0b1c5446296909295c741de0a": {
     "views": []
    },
    "fbb621f094914249a68806e8f632384b": {
     "views": []
    },
    "fbeda01aacac476396c2016c6b4dde0e": {
     "views": []
    },
    "fc2c0295d2f84b8a8d10b460a1379f84": {
     "views": []
    },
    "fcdc867b234142e7a237f89de1d6d14f": {
     "views": []
    },
    "fcfe3727cb4946588ea0164faef490b5": {
     "views": []
    },
    "fd06c65bfab54fe7b452cc57f0eef50a": {
     "views": []
    },
    "fd08d9f3bc7b44d8ab961ef0014f5931": {
     "views": []
    },
    "fd880a21541649f3b9d04ce9ef337609": {
     "views": []
    },
    "fdd2c37427c4464da0453dd0ce797de0": {
     "views": []
    },
    "fdfc038d90c94b75aec13d62c9af20c6": {
     "views": []
    },
    "fe20805dbf1946ad9f8f62235ca10a84": {
     "views": []
    },
    "fe4f9a0e017a4935803513f51481ada3": {
     "views": []
    },
    "fe77cdb6e5214957b4e49f981eba596b": {
     "views": []
    },
    "fee58303ec894a1aabcb9f551d467cbc": {
     "views": []
    },
    "ff3f38638aeb4bd881d8567a9746634f": {
     "views": []
    },
    "ff40934b360040f588cfadd4a06449d1": {
     "views": []
    },
    "ff94838240c8412aa8c12fbf82dc1e2f": {
     "views": []
    }
   },
   "version": "1.1.2"
  }
 },
 "nbformat": 4,
 "nbformat_minor": 0
}
